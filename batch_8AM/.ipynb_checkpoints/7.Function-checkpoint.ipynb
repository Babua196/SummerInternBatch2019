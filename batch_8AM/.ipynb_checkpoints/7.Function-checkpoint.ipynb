{
 "cells": [
  {
   "cell_type": "code",
   "execution_count": 6,
   "metadata": {},
   "outputs": [
    {
     "name": "stdout",
     "output_type": "stream",
     "text": [
      "*\n",
      "**\n",
      "***\n",
      "****\n",
      "*****\n"
     ]
    }
   ],
   "source": [
    "row = 0\n",
    "while row < 5 : \n",
    "    print(\"*\"*(row+1))\n",
    "    row += 1"
   ]
  },
  {
   "cell_type": "code",
   "execution_count": 1,
   "metadata": {},
   "outputs": [
    {
     "name": "stdout",
     "output_type": "stream",
     "text": [
      "*\n",
      "**\n",
      "***\n",
      "****\n",
      "*****\n"
     ]
    }
   ],
   "source": [
    "row = 0\n",
    "while row < 5 :\n",
    "    col = 0\n",
    "    while col <= row : \n",
    "        print(\"*\",end='')\n",
    "        col += 1\n",
    "    print()\n",
    "    row += 1"
   ]
  },
  {
   "cell_type": "code",
   "execution_count": 4,
   "metadata": {},
   "outputs": [
    {
     "name": "stdout",
     "output_type": "stream",
     "text": [
      "Enter number of rows : 10\n",
      "*\n",
      "**\n",
      "***\n",
      "****\n",
      "*****\n",
      "******\n",
      "*******\n",
      "********\n",
      "*********\n",
      "**********\n"
     ]
    }
   ],
   "source": [
    "rows = int(input(\"Enter number of rows : \"))\n",
    "row = 0 \n",
    "while row < rows :\n",
    "    col = 0\n",
    "    while col < rows : \n",
    "        if col <= row : \n",
    "            print(\"*\",end='')\n",
    "        else : \n",
    "            break\n",
    "        col += 1\n",
    "    print()\n",
    "    row += 1"
   ]
  },
  {
   "cell_type": "code",
   "execution_count": 6,
   "metadata": {},
   "outputs": [
    {
     "name": "stdout",
     "output_type": "stream",
     "text": [
      "Enter number of rows : 10\n",
      "          \n",
      "         *\n",
      "        **\n",
      "       ***\n",
      "      ****\n",
      "     *****\n",
      "    ******\n",
      "   *******\n",
      "  ********\n",
      " *********\n"
     ]
    }
   ],
   "source": [
    "rows = int(input(\"Enter number of rows : \"))\n",
    "row = 0 \n",
    "while row < rows :\n",
    "    col = 0\n",
    "    while col < rows : \n",
    "        if col < (rows-row) : \n",
    "            print(\" \",end='')\n",
    "        else : \n",
    "            print(\"*\",end='')\n",
    "        col += 1\n",
    "    print()\n",
    "    row += 1"
   ]
  },
  {
   "cell_type": "code",
   "execution_count": 7,
   "metadata": {},
   "outputs": [
    {
     "name": "stdout",
     "output_type": "stream",
     "text": [
      "Enter number of rows : 10\n",
      " *********\n",
      "  ********\n",
      "   *******\n",
      "    ******\n",
      "     *****\n",
      "      ****\n",
      "       ***\n",
      "        **\n",
      "         *\n",
      "          \n"
     ]
    }
   ],
   "source": [
    "rows = int(input(\"Enter number of rows : \"))\n",
    "row = 0 \n",
    "while row < rows :\n",
    "    col = 0\n",
    "    while col < rows : \n",
    "        if col <= row : \n",
    "            print(\" \",end='')\n",
    "        else : \n",
    "            print(\"*\",end='')\n",
    "        col += 1\n",
    "    print()\n",
    "    row += 1"
   ]
  },
  {
   "cell_type": "code",
   "execution_count": 8,
   "metadata": {},
   "outputs": [
    {
     "name": "stdout",
     "output_type": "stream",
     "text": [
      "Enter number of rows : 10\n",
      "          *\n",
      "         ***\n",
      "        *****\n",
      "       *******\n",
      "      *********\n",
      "     ***********\n",
      "    *************\n",
      "   ***************\n",
      "  *****************\n",
      " *******************\n"
     ]
    }
   ],
   "source": [
    "rows = int(input(\"Enter number of rows : \"))\n",
    "row = 0\n",
    "while row < rows : \n",
    "    col = 0 \n",
    "    while col <= rows : \n",
    "        if col <= rows :\n",
    "            if col <= (rows-row-1) : \n",
    "                print(\" \",end='')\n",
    "            else : \n",
    "                print(\"*\",end='')\n",
    "        col += 1\n",
    "                \n",
    "    else : \n",
    "        c = 0 \n",
    "        while c < row : \n",
    "            print(\"*\",end='')\n",
    "            c += 1\n",
    "                \n",
    "    print()\n",
    "    row +=1"
   ]
  },
  {
   "cell_type": "code",
   "execution_count": 5,
   "metadata": {},
   "outputs": [
    {
     "name": "stdout",
     "output_type": "stream",
     "text": [
      "          \n",
      "         *\n",
      "        ***\n",
      "       *****\n",
      "      *******\n",
      "     *********\n",
      "    ***********\n",
      "   *************\n",
      "  ***************\n",
      " *****************\n"
     ]
    }
   ],
   "source": [
    "row = 0 \n",
    "while row < 10 : \n",
    "    print(\" \"*(10-row),\"*\"*(row*2-1),sep='')\n",
    "    row += 1"
   ]
  },
  {
   "cell_type": "markdown",
   "metadata": {},
   "source": [
    "# for "
   ]
  },
  {
   "cell_type": "code",
   "execution_count": 8,
   "metadata": {},
   "outputs": [
    {
     "name": "stdout",
     "output_type": "stream",
     "text": [
      "Enter number of rows : 10\n",
      "           *\n",
      "          ***\n",
      "         *****\n",
      "        *******\n",
      "       *********\n",
      "      ***********\n",
      "     *************\n",
      "    ***************\n",
      "   *****************\n",
      "  *******************\n"
     ]
    }
   ],
   "source": [
    "rows = int(input(\"Enter number of rows : \"))\n",
    "for row in range(rows): \n",
    "    for col in range(rows-row+1):\n",
    "        print(\" \",end='')\n",
    "    for col in range(row+1):\n",
    "        print(\"*\",end='')\n",
    "    for col in range(row):\n",
    "        print(\"*\",end='')\n",
    "    print()"
   ]
  },
  {
   "cell_type": "code",
   "execution_count": 9,
   "metadata": {},
   "outputs": [
    {
     "name": "stdout",
     "output_type": "stream",
     "text": [
      "hello\n",
      "hi\n",
      "bye\n"
     ]
    }
   ],
   "source": [
    "l =  [ 'hello','hi','bye']\n",
    "for var in l : \n",
    "    print(var)"
   ]
  },
  {
   "cell_type": "code",
   "execution_count": 10,
   "metadata": {},
   "outputs": [
    {
     "name": "stdout",
     "output_type": "stream",
     "text": [
      "h e l\n"
     ]
    }
   ],
   "source": [
    "a,b,c='hel'\n",
    "print(a,b,c)"
   ]
  },
  {
   "cell_type": "code",
   "execution_count": 11,
   "metadata": {},
   "outputs": [
    {
     "name": "stdout",
     "output_type": "stream",
     "text": [
      "1 2 3\n",
      "h e l\n",
      "one two three\n",
      "All Good\n"
     ]
    }
   ],
   "source": [
    "x = [ (1,2,3),'hel',{'one':1,'two':2,'three':3}]\n",
    "for var1,var2,var3 in x : \n",
    "    print(var1,var2,var3)\n",
    "else : \n",
    "    print(\"All Good\")"
   ]
  },
  {
   "cell_type": "code",
   "execution_count": 14,
   "metadata": {},
   "outputs": [
    {
     "name": "stdout",
     "output_type": "stream",
     "text": [
      "0\n",
      "2\n",
      "4\n",
      "6\n",
      "8\n",
      "It's Clear I think ? \n"
     ]
    }
   ],
   "source": [
    "for var in range(10):\n",
    "    if var % 2 : \n",
    "        continue\n",
    "    elif var == 5 : \n",
    "        break\n",
    "    print(var)\n",
    "else : \n",
    "    print(\"It's Clear I think ? \")"
   ]
  },
  {
   "cell_type": "markdown",
   "metadata": {},
   "source": [
    "# What is a Function ? "
   ]
  },
  {
   "cell_type": "markdown",
   "metadata": {},
   "source": [
    "# Built-in\n",
    "# User Define"
   ]
  },
  {
   "cell_type": "code",
   "execution_count": 16,
   "metadata": {},
   "outputs": [
    {
     "name": "stdout",
     "output_type": "stream",
     "text": [
      "Enter name slkdfj\n"
     ]
    }
   ],
   "source": [
    "name = input(\"Enter name \") # std input"
   ]
  },
  {
   "cell_type": "code",
   "execution_count": 15,
   "metadata": {},
   "outputs": [
    {
     "name": "stdout",
     "output_type": "stream",
     "text": [
      "hello World\n"
     ]
    }
   ],
   "source": [
    "print(\"hello World\") # built-in std output"
   ]
  },
  {
   "cell_type": "code",
   "execution_count": 17,
   "metadata": {},
   "outputs": [],
   "source": [
    "import builtins"
   ]
  },
  {
   "cell_type": "code",
   "execution_count": 18,
   "metadata": {},
   "outputs": [
    {
     "name": "stdout",
     "output_type": "stream",
     "text": [
      "['ArithmeticError', 'AssertionError', 'AttributeError', 'BaseException', 'BlockingIOError', 'BrokenPipeError', 'BufferError', 'BytesWarning', 'ChildProcessError', 'ConnectionAbortedError', 'ConnectionError', 'ConnectionRefusedError', 'ConnectionResetError', 'DeprecationWarning', 'EOFError', 'Ellipsis', 'EnvironmentError', 'Exception', 'False', 'FileExistsError', 'FileNotFoundError', 'FloatingPointError', 'FutureWarning', 'GeneratorExit', 'IOError', 'ImportError', 'ImportWarning', 'IndentationError', 'IndexError', 'InterruptedError', 'IsADirectoryError', 'KeyError', 'KeyboardInterrupt', 'LookupError', 'MemoryError', 'ModuleNotFoundError', 'NameError', 'None', 'NotADirectoryError', 'NotImplemented', 'NotImplementedError', 'OSError', 'OverflowError', 'PendingDeprecationWarning', 'PermissionError', 'ProcessLookupError', 'RecursionError', 'ReferenceError', 'ResourceWarning', 'RuntimeError', 'RuntimeWarning', 'StopAsyncIteration', 'StopIteration', 'SyntaxError', 'SyntaxWarning', 'SystemError', 'SystemExit', 'TabError', 'TimeoutError', 'True', 'TypeError', 'UnboundLocalError', 'UnicodeDecodeError', 'UnicodeEncodeError', 'UnicodeError', 'UnicodeTranslateError', 'UnicodeWarning', 'UserWarning', 'ValueError', 'Warning', 'WindowsError', 'ZeroDivisionError', '__IPYTHON__', '__build_class__', '__debug__', '__doc__', '__import__', '__loader__', '__name__', '__package__', '__spec__', 'abs', 'all', 'any', 'ascii', 'bin', 'bool', 'breakpoint', 'bytearray', 'bytes', 'callable', 'chr', 'classmethod', 'compile', 'complex', 'copyright', 'credits', 'delattr', 'dict', 'dir', 'display', 'divmod', 'enumerate', 'eval', 'exec', 'filter', 'float', 'format', 'frozenset', 'get_ipython', 'getattr', 'globals', 'hasattr', 'hash', 'help', 'hex', 'id', 'input', 'int', 'isinstance', 'issubclass', 'iter', 'len', 'license', 'list', 'locals', 'map', 'max', 'memoryview', 'min', 'next', 'object', 'oct', 'open', 'ord', 'pow', 'print', 'property', 'range', 'repr', 'reversed', 'round', 'set', 'setattr', 'slice', 'sorted', 'staticmethod', 'str', 'sum', 'super', 'tuple', 'type', 'vars', 'zip']\n"
     ]
    }
   ],
   "source": [
    "print(dir(builtins))"
   ]
  },
  {
   "cell_type": "code",
   "execution_count": 19,
   "metadata": {},
   "outputs": [],
   "source": [
    "all_builtin = [ 'abs', 'all', 'any', 'ascii', 'bin', 'bool', 'breakpoint', 'bytearray', 'bytes', 'callable', 'chr', 'classmethod', 'compile', 'complex', 'copyright', 'credits', 'delattr', 'dict', 'dir', 'display', 'divmod', 'enumerate', 'eval', 'exec', 'filter', 'float', 'format', 'frozenset', 'get_ipython', 'getattr', 'globals', 'hasattr', 'hash', 'help', 'hex', 'id', 'input', 'int', 'isinstance', 'issubclass', 'iter', 'len', 'license', 'list', 'locals', 'map', 'max', 'memoryview', 'min', 'next', 'object', 'oct', 'open', 'ord', 'pow', 'print', 'property', 'range', 'repr', 'reversed', 'round', 'set', 'setattr', 'slice', 'sorted', 'staticmethod', 'str', 'sum', 'super', 'tuple', 'type', 'vars', 'zip']"
   ]
  },
  {
   "cell_type": "code",
   "execution_count": 20,
   "metadata": {},
   "outputs": [
    {
     "name": "stdout",
     "output_type": "stream",
     "text": [
      "1 . abs\n",
      "2 . all\n",
      "3 . any\n",
      "4 . ascii\n",
      "5 . bin\n",
      "6 . bool\n",
      "7 . breakpoint\n",
      "8 . bytearray\n",
      "9 . bytes\n",
      "10 . callable\n",
      "11 . chr\n",
      "12 . classmethod\n",
      "13 . compile\n",
      "14 . complex\n",
      "15 . copyright\n",
      "16 . credits\n",
      "17 . delattr\n",
      "18 . dict\n",
      "19 . dir\n",
      "20 . display\n",
      "21 . divmod\n",
      "22 . enumerate\n",
      "23 . eval\n",
      "24 . exec\n",
      "25 . filter\n",
      "26 . float\n",
      "27 . format\n",
      "28 . frozenset\n",
      "29 . get_ipython\n",
      "30 . getattr\n",
      "31 . globals\n",
      "32 . hasattr\n",
      "33 . hash\n",
      "34 . help\n",
      "35 . hex\n",
      "36 . id\n",
      "37 . input\n",
      "38 . int\n",
      "39 . isinstance\n",
      "40 . issubclass\n",
      "41 . iter\n",
      "42 . len\n",
      "43 . license\n",
      "44 . list\n",
      "45 . locals\n",
      "46 . map\n",
      "47 . max\n",
      "48 . memoryview\n",
      "49 . min\n",
      "50 . next\n",
      "51 . object\n",
      "52 . oct\n",
      "53 . open\n",
      "54 . ord\n",
      "55 . pow\n",
      "56 . print\n",
      "57 . property\n",
      "58 . range\n",
      "59 . repr\n",
      "60 . reversed\n",
      "61 . round\n",
      "62 . set\n",
      "63 . setattr\n",
      "64 . slice\n",
      "65 . sorted\n",
      "66 . staticmethod\n",
      "67 . str\n",
      "68 . sum\n",
      "69 . super\n",
      "70 . tuple\n",
      "71 . type\n",
      "72 . vars\n",
      "73 . zip\n"
     ]
    }
   ],
   "source": [
    "for count,func in enumerate(all_builtin) : \n",
    "    print(count+1,\".\",func)"
   ]
  },
  {
   "cell_type": "markdown",
   "metadata": {},
   "source": [
    "#### UDF , UDTF, UDAF\n",
    "### UDF    -->  User Defined Functions\n",
    "### UDTF  -->  User Defined Transformation Functions \n",
    "### UDAF  -->  User Defined Aggreation Functions "
   ]
  },
  {
   "cell_type": "code",
   "execution_count": 22,
   "metadata": {},
   "outputs": [
    {
     "data": {
      "text/plain": [
       "'random'"
      ]
     },
     "execution_count": 22,
     "metadata": {},
     "output_type": "execute_result"
    }
   ],
   "source": [
    "import random \n",
    "random.__name__"
   ]
  },
  {
   "cell_type": "code",
   "execution_count": 25,
   "metadata": {},
   "outputs": [
    {
     "data": {
      "text/plain": [
       "'randint'"
      ]
     },
     "execution_count": 25,
     "metadata": {},
     "output_type": "execute_result"
    }
   ],
   "source": [
    "import random\n",
    "\n",
    "random.randint.__name__"
   ]
  },
  {
   "cell_type": "code",
   "execution_count": 21,
   "metadata": {},
   "outputs": [
    {
     "name": "stdout",
     "output_type": "stream",
     "text": [
      "__main__\n"
     ]
    }
   ],
   "source": [
    "print(__name__)"
   ]
  },
  {
   "cell_type": "code",
   "execution_count": 27,
   "metadata": {},
   "outputs": [],
   "source": [
    "# Namespace    --> \n",
    "# Arguments    --> Formal Argument , Actual Arguments\n",
    "# Defination   --> Structure of function\n",
    "# Body         --> logical statements to manipluate data\n",
    "# Return value --> Whatever we want to store in global \n",
    "# Calling      --> \n"
   ]
  },
  {
   "cell_type": "raw",
   "metadata": {},
   "source": [
    "syntax\n",
    "\n",
    "def function_name(arg1, arg2, ... ) :  # defination ( formal argument)\n",
    "    statement1\n",
    "    statement2\n",
    "    statement3   # body \n",
    "       ...\n",
    "    statementn\n",
    "    \n",
    "    return value \n",
    "    \n",
    "    \n",
    "function_name(a1,a2, ... ) # actual arguments\n",
    "    \n",
    "    "
   ]
  },
  {
   "cell_type": "markdown",
   "metadata": {},
   "source": [
    "### 1. UDF without argument without return type"
   ]
  },
  {
   "cell_type": "markdown",
   "metadata": {},
   "source": [
    "# Advantage of using Functions \n",
    "#### code reuseablity\n",
    "#### modular programming\n",
    "#### memory optimization\n",
    "#### easy to use\n",
    "#### code readablity\n"
   ]
  },
  {
   "cell_type": "code",
   "execution_count": 40,
   "metadata": {},
   "outputs": [],
   "source": [
    "def hello():\n",
    "    name = input(\"Enter your name : \") # local variable\n",
    "    print(\"Hello World!!! Welcome user \",name)"
   ]
  },
  {
   "cell_type": "code",
   "execution_count": 41,
   "metadata": {},
   "outputs": [
    {
     "name": "stdout",
     "output_type": "stream",
     "text": [
      "Enter your name : sachin\n",
      "Hello World!!! Welcome user  sachin\n"
     ]
    }
   ],
   "source": [
    "hello()"
   ]
  },
  {
   "cell_type": "code",
   "execution_count": 42,
   "metadata": {},
   "outputs": [
    {
     "ename": "NameError",
     "evalue": "name 'name' is not defined",
     "output_type": "error",
     "traceback": [
      "\u001b[1;31m---------------------------------------------------------------------------\u001b[0m",
      "\u001b[1;31mNameError\u001b[0m                                 Traceback (most recent call last)",
      "\u001b[1;32m<ipython-input-42-9bc0cb2ed6de>\u001b[0m in \u001b[0;36m<module>\u001b[1;34m\u001b[0m\n\u001b[1;32m----> 1\u001b[1;33m \u001b[0mname\u001b[0m\u001b[1;33m\u001b[0m\u001b[1;33m\u001b[0m\u001b[0m\n\u001b[0m",
      "\u001b[1;31mNameError\u001b[0m: name 'name' is not defined"
     ]
    }
   ],
   "source": [
    "name"
   ]
  },
  {
   "cell_type": "code",
   "execution_count": 43,
   "metadata": {},
   "outputs": [
    {
     "name": "stdout",
     "output_type": "stream",
     "text": [
      "Enter your name : sachin\n",
      "Hello World!!! Welcome user  sachin\n",
      "None\n"
     ]
    }
   ],
   "source": [
    "data = hello()\n",
    "print(data)"
   ]
  },
  {
   "cell_type": "markdown",
   "metadata": {},
   "source": [
    "# 2. with argument without return type"
   ]
  },
  {
   "cell_type": "code",
   "execution_count": 45,
   "metadata": {},
   "outputs": [
    {
     "name": "stdout",
     "output_type": "stream",
     "text": [
      "Helllo World!! Welcome user  sachin\n"
     ]
    }
   ],
   "source": [
    "def hello(name): # format argument name local variable\n",
    "    print(\"Helllo World!! Welcome user \",name)\n",
    "\n",
    "x = 'sachin' # global variable\n",
    "hello(x) # call by value  hello('sachin') # actual argument"
   ]
  },
  {
   "cell_type": "markdown",
   "metadata": {},
   "source": [
    "# 3. without argument with return type "
   ]
  },
  {
   "cell_type": "code",
   "execution_count": 49,
   "metadata": {},
   "outputs": [],
   "source": [
    "def hello():\n",
    "    x = int(input(\"Enter a number : \"))\n",
    "    y = int(input(\"Enter another number : \"))\n",
    "    return x**2+y**2"
   ]
  },
  {
   "cell_type": "code",
   "execution_count": 50,
   "metadata": {},
   "outputs": [
    {
     "name": "stdout",
     "output_type": "stream",
     "text": [
      "Enter a number : 5\n",
      "Enter another number : 6\n"
     ]
    }
   ],
   "source": [
    "result = hello()"
   ]
  },
  {
   "cell_type": "code",
   "execution_count": 51,
   "metadata": {},
   "outputs": [
    {
     "data": {
      "text/plain": [
       "61"
      ]
     },
     "execution_count": 51,
     "metadata": {},
     "output_type": "execute_result"
    }
   ],
   "source": [
    "result"
   ]
  },
  {
   "cell_type": "code",
   "execution_count": 55,
   "metadata": {},
   "outputs": [],
   "source": [
    "# 4. with argument with return type\n",
    "\n",
    "def hello(name):\n",
    "    return name.strip().upper()[::-1]"
   ]
  },
  {
   "cell_type": "code",
   "execution_count": 57,
   "metadata": {},
   "outputs": [
    {
     "name": "stdout",
     "output_type": "stream",
     "text": [
      "VADAY  NIHCAS\n"
     ]
    }
   ],
   "source": [
    "r = hello('      sachin  yadav     ')\n",
    "print(r)"
   ]
  },
  {
   "cell_type": "code",
   "execution_count": 59,
   "metadata": {},
   "outputs": [],
   "source": [
    "def power(num,p):\n",
    "    return num**p"
   ]
  },
  {
   "cell_type": "code",
   "execution_count": 60,
   "metadata": {},
   "outputs": [],
   "source": [
    "r = power(3,4)"
   ]
  },
  {
   "cell_type": "code",
   "execution_count": 61,
   "metadata": {},
   "outputs": [
    {
     "data": {
      "text/plain": [
       "81"
      ]
     },
     "execution_count": 61,
     "metadata": {},
     "output_type": "execute_result"
    }
   ],
   "source": [
    "r"
   ]
  },
  {
   "cell_type": "code",
   "execution_count": 62,
   "metadata": {},
   "outputs": [],
   "source": [
    "data = { \n",
    "    1001 : { 'name':'rahul','bal':56000,'password':'redhat'},\n",
    "    1002 : { 'name':'simarn','bal':2300000,'password':'Asimov'} \n",
    "}"
   ]
  },
  {
   "cell_type": "code",
   "execution_count": 63,
   "metadata": {},
   "outputs": [],
   "source": [
    "# Bank Application\n",
    "# debit\n",
    "# credit\n",
    "# chkbalance\n",
    "# update password\n",
    "# login\n",
    "# signup"
   ]
  },
  {
   "cell_type": "code",
   "execution_count": null,
   "metadata": {},
   "outputs": [],
   "source": []
  }
 ],
 "metadata": {
  "kernelspec": {
   "display_name": "Python 3",
   "language": "python",
   "name": "python3"
  },
  "language_info": {
   "codemirror_mode": {
    "name": "ipython",
    "version": 3
   },
   "file_extension": ".py",
   "mimetype": "text/x-python",
   "name": "python",
   "nbconvert_exporter": "python",
   "pygments_lexer": "ipython3",
   "version": "3.7.1"
  }
 },
 "nbformat": 4,
 "nbformat_minor": 2
}
